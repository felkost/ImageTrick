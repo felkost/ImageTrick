{
 "cells": [
  {
   "cell_type": "markdown",
   "metadata": {},
   "source": [
    "# Аналiз даних за обраним типом повiдомленням"
   ]
  },
  {
   "cell_type": "code",
   "execution_count": 1,
   "metadata": {},
   "outputs": [],
   "source": [
    "import glob\n",
    "import os\n",
    "import pandas as pd\n",
    "import numpy as np\n",
    "\n",
    "from datetime import datetime, tzinfo\n",
    "import pytz"
   ]
  },
  {
   "cell_type": "code",
   "execution_count": 2,
   "metadata": {},
   "outputs": [],
   "source": [
    "from matplotlib import pyplot as plt\n",
    "from matplotlib.pyplot import figure\n",
    "from matplotlib.dates import DateFormatter, MinuteLocator, SecondLocator\n",
    "\n",
    "%matplotlib inline"
   ]
  },
  {
   "cell_type": "markdown",
   "metadata": {},
   "source": [
    "## Всnановлення шляхiв до папки та назва файла, куди збережено частину .tlog"
   ]
  },
  {
   "cell_type": "code",
   "execution_count": 3,
   "metadata": {},
   "outputs": [],
   "source": [
    "DIR_DATA = '/home/fel/Документы/tmp/'\n",
    "local_file_name = 'battery.csv'"
   ]
  },
  {
   "cell_type": "markdown",
   "metadata": {},
   "source": [
    "## Прочитати csv-файл за допомогою pandas "
   ]
  },
  {
   "cell_type": "code",
   "execution_count": 4,
   "metadata": {},
   "outputs": [],
   "source": [
    "full_path_to_file = os.path.join(DIR_DATA, local_file_name)"
   ]
  },
  {
   "cell_type": "code",
   "execution_count": 5,
   "metadata": {},
   "outputs": [],
   "source": [
    "df = pd.read_csv(full_path_to_file)"
   ]
  },
  {
   "cell_type": "markdown",
   "metadata": {},
   "source": [
    "## Характеристика даних"
   ]
  },
  {
   "cell_type": "code",
   "execution_count": 6,
   "metadata": {
    "scrolled": true
   },
   "outputs": [
    {
     "name": "stdout",
     "output_type": "stream",
     "text": [
      "<class 'pandas.core.frame.DataFrame'>\n",
      "RangeIndex: 2919 entries, 0 to 2918\n",
      "Data columns (total 13 columns):\n",
      "2018-07-31 16:03:26.55: SYS_STATUS {onboard_control_sensors_present : 2161691    2919 non-null object\n",
      " onboard_control_sensors_enabled : 2129944                                       2919 non-null object\n",
      " onboard_control_sensors_health : 3210240                                        2919 non-null object\n",
      " load : 0                                                                        2919 non-null object\n",
      " voltage_battery : 0                                                             2919 non-null object\n",
      " current_battery : 0                                                             2919 non-null object\n",
      " battery_remaining : 100                                                         2919 non-null object\n",
      " drop_rate_comm : 0                                                              2919 non-null object\n",
      " errors_comm : 0                                                                 2919 non-null object\n",
      " errors_count1 : 0                                                               2919 non-null object\n",
      " errors_count2 : 0                                                               2919 non-null object\n",
      " errors_count3 : 0                                                               2919 non-null object\n",
      " errors_count4 : 0}                                                              2919 non-null object\n",
      "dtypes: object(13)\n",
      "memory usage: 296.5+ KB\n"
     ]
    }
   ],
   "source": [
    "# iнформацiя про поля (кiлькiсть, назви колонок) та кiлькiсть записiв (рядкiв)\n",
    "df.info()"
   ]
  },
  {
   "cell_type": "code",
   "execution_count": 7,
   "metadata": {},
   "outputs": [
    {
     "data": {
      "text/plain": [
       "0     battery_remaining : 100\n",
       "1     battery_remaining : 100\n",
       "2     battery_remaining : 100\n",
       "3     battery_remaining : 100\n",
       "4     battery_remaining : 100\n",
       "Name:  battery_remaining : 100, dtype: object"
      ]
     },
     "execution_count": 7,
     "metadata": {},
     "output_type": "execute_result"
    }
   ],
   "source": [
    "# приклад перших 5-ти рядкiв\n",
    "df[' battery_remaining : 100'][:5]"
   ]
  },
  {
   "cell_type": "code",
   "execution_count": 8,
   "metadata": {},
   "outputs": [
    {
     "data": {
      "text/plain": [
       "Index(['2018-07-31 16:03:26.55: SYS_STATUS {onboard_control_sensors_present : 2161691',\n",
       "       ' onboard_control_sensors_enabled : 2129944',\n",
       "       ' onboard_control_sensors_health : 3210240', ' load : 0',\n",
       "       ' voltage_battery : 0', ' current_battery : 0',\n",
       "       ' battery_remaining : 100', ' drop_rate_comm : 0', ' errors_comm : 0',\n",
       "       ' errors_count1 : 0', ' errors_count2 : 0', ' errors_count3 : 0',\n",
       "       ' errors_count4 : 0}'],\n",
       "      dtype='object')"
      ]
     },
     "execution_count": 8,
     "metadata": {},
     "output_type": "execute_result"
    }
   ],
   "source": [
    "# назви полiв\n",
    "df.columns"
   ]
  },
  {
   "cell_type": "code",
   "execution_count": 9,
   "metadata": {},
   "outputs": [
    {
     "data": {
      "text/html": [
       "<div>\n",
       "<style scoped>\n",
       "    .dataframe tbody tr th:only-of-type {\n",
       "        vertical-align: middle;\n",
       "    }\n",
       "\n",
       "    .dataframe tbody tr th {\n",
       "        vertical-align: top;\n",
       "    }\n",
       "\n",
       "    .dataframe thead th {\n",
       "        text-align: right;\n",
       "    }\n",
       "</style>\n",
       "<table border=\"1\" class=\"dataframe\">\n",
       "  <thead>\n",
       "    <tr style=\"text-align: right;\">\n",
       "      <th></th>\n",
       "      <th>date_status</th>\n",
       "      <th>sensors_enabled</th>\n",
       "      <th>sensors_health</th>\n",
       "      <th>load</th>\n",
       "      <th>voltage_battery</th>\n",
       "      <th>current_battery</th>\n",
       "      <th>battery_remaining</th>\n",
       "      <th>drop_rate_comm</th>\n",
       "      <th>errors_comm</th>\n",
       "      <th>errors_count1</th>\n",
       "      <th>errors_count2</th>\n",
       "      <th>errors_count3</th>\n",
       "      <th>errors_count4</th>\n",
       "    </tr>\n",
       "  </thead>\n",
       "  <tbody>\n",
       "    <tr>\n",
       "      <th>0</th>\n",
       "      <td>2018-07-31 16:03:27.18: SYS_STATUS {onboard_co...</td>\n",
       "      <td>onboard_control_sensors_enabled : 2129944</td>\n",
       "      <td>onboard_control_sensors_health : 3210240</td>\n",
       "      <td>load : 0</td>\n",
       "      <td>voltage_battery : 0</td>\n",
       "      <td>current_battery : 0</td>\n",
       "      <td>battery_remaining : 100</td>\n",
       "      <td>drop_rate_comm : 0</td>\n",
       "      <td>errors_comm : 0</td>\n",
       "      <td>errors_count1 : 0</td>\n",
       "      <td>errors_count2 : 0</td>\n",
       "      <td>errors_count3 : 0</td>\n",
       "      <td>errors_count4 : 0}</td>\n",
       "    </tr>\n",
       "    <tr>\n",
       "      <th>1</th>\n",
       "      <td>2018-07-31 16:03:28.22: SYS_STATUS {onboard_co...</td>\n",
       "      <td>onboard_control_sensors_enabled : 2129944</td>\n",
       "      <td>onboard_control_sensors_health : 3210240</td>\n",
       "      <td>load : 0</td>\n",
       "      <td>voltage_battery : 0</td>\n",
       "      <td>current_battery : 0</td>\n",
       "      <td>battery_remaining : 100</td>\n",
       "      <td>drop_rate_comm : 0</td>\n",
       "      <td>errors_comm : 0</td>\n",
       "      <td>errors_count1 : 0</td>\n",
       "      <td>errors_count2 : 0</td>\n",
       "      <td>errors_count3 : 0</td>\n",
       "      <td>errors_count4 : 0}</td>\n",
       "    </tr>\n",
       "    <tr>\n",
       "      <th>2</th>\n",
       "      <td>2018-07-31 16:03:29.19: SYS_STATUS {onboard_co...</td>\n",
       "      <td>onboard_control_sensors_enabled : 2129947</td>\n",
       "      <td>onboard_control_sensors_health : 3210251</td>\n",
       "      <td>load : 0</td>\n",
       "      <td>voltage_battery : 0</td>\n",
       "      <td>current_battery : 0</td>\n",
       "      <td>battery_remaining : 100</td>\n",
       "      <td>drop_rate_comm : 0</td>\n",
       "      <td>errors_comm : 0</td>\n",
       "      <td>errors_count1 : 0</td>\n",
       "      <td>errors_count2 : 0</td>\n",
       "      <td>errors_count3 : 0</td>\n",
       "      <td>errors_count4 : 0}</td>\n",
       "    </tr>\n",
       "    <tr>\n",
       "      <th>3</th>\n",
       "      <td>2018-07-31 16:03:30.19: SYS_STATUS {onboard_co...</td>\n",
       "      <td>onboard_control_sensors_enabled : 2129947</td>\n",
       "      <td>onboard_control_sensors_health : 3210251</td>\n",
       "      <td>load : 0</td>\n",
       "      <td>voltage_battery : 0</td>\n",
       "      <td>current_battery : 0</td>\n",
       "      <td>battery_remaining : 100</td>\n",
       "      <td>drop_rate_comm : 0</td>\n",
       "      <td>errors_comm : 0</td>\n",
       "      <td>errors_count1 : 0</td>\n",
       "      <td>errors_count2 : 0</td>\n",
       "      <td>errors_count3 : 0</td>\n",
       "      <td>errors_count4 : 0}</td>\n",
       "    </tr>\n",
       "    <tr>\n",
       "      <th>4</th>\n",
       "      <td>2018-07-31 16:03:31.23: SYS_STATUS {onboard_co...</td>\n",
       "      <td>onboard_control_sensors_enabled : 2129947</td>\n",
       "      <td>onboard_control_sensors_health : 3210267</td>\n",
       "      <td>load : 0</td>\n",
       "      <td>voltage_battery : 0</td>\n",
       "      <td>current_battery : 0</td>\n",
       "      <td>battery_remaining : 100</td>\n",
       "      <td>drop_rate_comm : 0</td>\n",
       "      <td>errors_comm : 0</td>\n",
       "      <td>errors_count1 : 0</td>\n",
       "      <td>errors_count2 : 0</td>\n",
       "      <td>errors_count3 : 0</td>\n",
       "      <td>errors_count4 : 0}</td>\n",
       "    </tr>\n",
       "    <tr>\n",
       "      <th>5</th>\n",
       "      <td>2018-07-31 16:03:32.20: SYS_STATUS {onboard_co...</td>\n",
       "      <td>onboard_control_sensors_enabled : 2129947</td>\n",
       "      <td>onboard_control_sensors_health : 3210267</td>\n",
       "      <td>load : 0</td>\n",
       "      <td>voltage_battery : 0</td>\n",
       "      <td>current_battery : 0</td>\n",
       "      <td>battery_remaining : 100</td>\n",
       "      <td>drop_rate_comm : 0</td>\n",
       "      <td>errors_comm : 0</td>\n",
       "      <td>errors_count1 : 0</td>\n",
       "      <td>errors_count2 : 0</td>\n",
       "      <td>errors_count3 : 0</td>\n",
       "      <td>errors_count4 : 0}</td>\n",
       "    </tr>\n",
       "    <tr>\n",
       "      <th>6</th>\n",
       "      <td>2018-07-31 16:03:33.23: SYS_STATUS {onboard_co...</td>\n",
       "      <td>onboard_control_sensors_enabled : 2129947</td>\n",
       "      <td>onboard_control_sensors_health : 3210267</td>\n",
       "      <td>load : 0</td>\n",
       "      <td>voltage_battery : 0</td>\n",
       "      <td>current_battery : 0</td>\n",
       "      <td>battery_remaining : 100</td>\n",
       "      <td>drop_rate_comm : 0</td>\n",
       "      <td>errors_comm : 0</td>\n",
       "      <td>errors_count1 : 0</td>\n",
       "      <td>errors_count2 : 0</td>\n",
       "      <td>errors_count3 : 0</td>\n",
       "      <td>errors_count4 : 0}</td>\n",
       "    </tr>\n",
       "    <tr>\n",
       "      <th>7</th>\n",
       "      <td>2018-07-31 16:03:34.24: SYS_STATUS {onboard_co...</td>\n",
       "      <td>onboard_control_sensors_enabled : 2129947</td>\n",
       "      <td>onboard_control_sensors_health : 3210267</td>\n",
       "      <td>load : 0</td>\n",
       "      <td>voltage_battery : 0</td>\n",
       "      <td>current_battery : 0</td>\n",
       "      <td>battery_remaining : 100</td>\n",
       "      <td>drop_rate_comm : 0</td>\n",
       "      <td>errors_comm : 0</td>\n",
       "      <td>errors_count1 : 0</td>\n",
       "      <td>errors_count2 : 0</td>\n",
       "      <td>errors_count3 : 0</td>\n",
       "      <td>errors_count4 : 0}</td>\n",
       "    </tr>\n",
       "    <tr>\n",
       "      <th>8</th>\n",
       "      <td>2018-07-31 16:03:34.41: SYS_STATUS {onboard_co...</td>\n",
       "      <td>onboard_control_sensors_enabled : 2129947</td>\n",
       "      <td>onboard_control_sensors_health : 3210267</td>\n",
       "      <td>load : 0</td>\n",
       "      <td>voltage_battery : 0</td>\n",
       "      <td>current_battery : 0</td>\n",
       "      <td>battery_remaining : 100</td>\n",
       "      <td>drop_rate_comm : 0</td>\n",
       "      <td>errors_comm : 0</td>\n",
       "      <td>errors_count1 : 0</td>\n",
       "      <td>errors_count2 : 0</td>\n",
       "      <td>errors_count3 : 0</td>\n",
       "      <td>errors_count4 : 0}</td>\n",
       "    </tr>\n",
       "    <tr>\n",
       "      <th>9</th>\n",
       "      <td>2018-07-31 16:03:36.41: SYS_STATUS {onboard_co...</td>\n",
       "      <td>onboard_control_sensors_enabled : 2133019</td>\n",
       "      <td>onboard_control_sensors_health : 3210267</td>\n",
       "      <td>load : 613</td>\n",
       "      <td>voltage_battery : 16565</td>\n",
       "      <td>current_battery : 11</td>\n",
       "      <td>battery_remaining : 99</td>\n",
       "      <td>drop_rate_comm : 0</td>\n",
       "      <td>errors_comm : 0</td>\n",
       "      <td>errors_count1 : 0</td>\n",
       "      <td>errors_count2 : 0</td>\n",
       "      <td>errors_count3 : 0</td>\n",
       "      <td>errors_count4 : 0}</td>\n",
       "    </tr>\n",
       "  </tbody>\n",
       "</table>\n",
       "</div>"
      ],
      "text/plain": [
       "                                         date_status  \\\n",
       "0  2018-07-31 16:03:27.18: SYS_STATUS {onboard_co...   \n",
       "1  2018-07-31 16:03:28.22: SYS_STATUS {onboard_co...   \n",
       "2  2018-07-31 16:03:29.19: SYS_STATUS {onboard_co...   \n",
       "3  2018-07-31 16:03:30.19: SYS_STATUS {onboard_co...   \n",
       "4  2018-07-31 16:03:31.23: SYS_STATUS {onboard_co...   \n",
       "5  2018-07-31 16:03:32.20: SYS_STATUS {onboard_co...   \n",
       "6  2018-07-31 16:03:33.23: SYS_STATUS {onboard_co...   \n",
       "7  2018-07-31 16:03:34.24: SYS_STATUS {onboard_co...   \n",
       "8  2018-07-31 16:03:34.41: SYS_STATUS {onboard_co...   \n",
       "9  2018-07-31 16:03:36.41: SYS_STATUS {onboard_co...   \n",
       "\n",
       "                              sensors_enabled  \\\n",
       "0   onboard_control_sensors_enabled : 2129944   \n",
       "1   onboard_control_sensors_enabled : 2129944   \n",
       "2   onboard_control_sensors_enabled : 2129947   \n",
       "3   onboard_control_sensors_enabled : 2129947   \n",
       "4   onboard_control_sensors_enabled : 2129947   \n",
       "5   onboard_control_sensors_enabled : 2129947   \n",
       "6   onboard_control_sensors_enabled : 2129947   \n",
       "7   onboard_control_sensors_enabled : 2129947   \n",
       "8   onboard_control_sensors_enabled : 2129947   \n",
       "9   onboard_control_sensors_enabled : 2133019   \n",
       "\n",
       "                              sensors_health         load  \\\n",
       "0   onboard_control_sensors_health : 3210240     load : 0   \n",
       "1   onboard_control_sensors_health : 3210240     load : 0   \n",
       "2   onboard_control_sensors_health : 3210251     load : 0   \n",
       "3   onboard_control_sensors_health : 3210251     load : 0   \n",
       "4   onboard_control_sensors_health : 3210267     load : 0   \n",
       "5   onboard_control_sensors_health : 3210267     load : 0   \n",
       "6   onboard_control_sensors_health : 3210267     load : 0   \n",
       "7   onboard_control_sensors_health : 3210267     load : 0   \n",
       "8   onboard_control_sensors_health : 3210267     load : 0   \n",
       "9   onboard_control_sensors_health : 3210267   load : 613   \n",
       "\n",
       "            voltage_battery        current_battery         battery_remaining  \\\n",
       "0       voltage_battery : 0    current_battery : 0   battery_remaining : 100   \n",
       "1       voltage_battery : 0    current_battery : 0   battery_remaining : 100   \n",
       "2       voltage_battery : 0    current_battery : 0   battery_remaining : 100   \n",
       "3       voltage_battery : 0    current_battery : 0   battery_remaining : 100   \n",
       "4       voltage_battery : 0    current_battery : 0   battery_remaining : 100   \n",
       "5       voltage_battery : 0    current_battery : 0   battery_remaining : 100   \n",
       "6       voltage_battery : 0    current_battery : 0   battery_remaining : 100   \n",
       "7       voltage_battery : 0    current_battery : 0   battery_remaining : 100   \n",
       "8       voltage_battery : 0    current_battery : 0   battery_remaining : 100   \n",
       "9   voltage_battery : 16565   current_battery : 11    battery_remaining : 99   \n",
       "\n",
       "        drop_rate_comm       errors_comm       errors_count1  \\\n",
       "0   drop_rate_comm : 0   errors_comm : 0   errors_count1 : 0   \n",
       "1   drop_rate_comm : 0   errors_comm : 0   errors_count1 : 0   \n",
       "2   drop_rate_comm : 0   errors_comm : 0   errors_count1 : 0   \n",
       "3   drop_rate_comm : 0   errors_comm : 0   errors_count1 : 0   \n",
       "4   drop_rate_comm : 0   errors_comm : 0   errors_count1 : 0   \n",
       "5   drop_rate_comm : 0   errors_comm : 0   errors_count1 : 0   \n",
       "6   drop_rate_comm : 0   errors_comm : 0   errors_count1 : 0   \n",
       "7   drop_rate_comm : 0   errors_comm : 0   errors_count1 : 0   \n",
       "8   drop_rate_comm : 0   errors_comm : 0   errors_count1 : 0   \n",
       "9   drop_rate_comm : 0   errors_comm : 0   errors_count1 : 0   \n",
       "\n",
       "        errors_count2       errors_count3        errors_count4  \n",
       "0   errors_count2 : 0   errors_count3 : 0   errors_count4 : 0}  \n",
       "1   errors_count2 : 0   errors_count3 : 0   errors_count4 : 0}  \n",
       "2   errors_count2 : 0   errors_count3 : 0   errors_count4 : 0}  \n",
       "3   errors_count2 : 0   errors_count3 : 0   errors_count4 : 0}  \n",
       "4   errors_count2 : 0   errors_count3 : 0   errors_count4 : 0}  \n",
       "5   errors_count2 : 0   errors_count3 : 0   errors_count4 : 0}  \n",
       "6   errors_count2 : 0   errors_count3 : 0   errors_count4 : 0}  \n",
       "7   errors_count2 : 0   errors_count3 : 0   errors_count4 : 0}  \n",
       "8   errors_count2 : 0   errors_count3 : 0   errors_count4 : 0}  \n",
       "9   errors_count2 : 0   errors_count3 : 0   errors_count4 : 0}  "
      ]
     },
     "execution_count": 9,
     "metadata": {},
     "output_type": "execute_result"
    }
   ],
   "source": [
    "# приклад, як змiнити назви полiв\n",
    "df.columns = ['date_status', 'sensors_enabled', 'sensors_health', 'load',\n",
    "              'voltage_battery', 'current_battery', 'battery_remaining',\n",
    "              'drop_rate_comm', \n",
    "              'errors_comm', 'errors_count1', 'errors_count2', 'errors_count3', 'errors_count4']\n",
    "df.head(10)"
   ]
  },
  {
   "cell_type": "code",
   "execution_count": 10,
   "metadata": {
    "scrolled": false
   },
   "outputs": [
    {
     "name": "stdout",
     "output_type": "stream",
     "text": [
      "<class 'pandas.core.frame.DataFrame'>\n",
      "RangeIndex: 2919 entries, 0 to 2918\n",
      "Data columns (total 13 columns):\n",
      "date_status          2919 non-null object\n",
      "sensors_enabled      2919 non-null object\n",
      "sensors_health       2919 non-null object\n",
      "load                 2919 non-null object\n",
      "voltage_battery      2919 non-null object\n",
      "current_battery      2919 non-null object\n",
      "battery_remaining    2919 non-null object\n",
      "drop_rate_comm       2919 non-null object\n",
      "errors_comm          2919 non-null object\n",
      "errors_count1        2919 non-null object\n",
      "errors_count2        2919 non-null object\n",
      "errors_count3        2919 non-null object\n",
      "errors_count4        2919 non-null object\n",
      "dtypes: object(13)\n",
      "memory usage: 296.5+ KB\n"
     ]
    }
   ],
   "source": [
    "df.info()"
   ]
  },
  {
   "cell_type": "markdown",
   "metadata": {},
   "source": [
    "## Фiльтрацiя даних: вибiр рядкiв по датi та рiвню заряда батареi"
   ]
  },
  {
   "cell_type": "code",
   "execution_count": 12,
   "metadata": {},
   "outputs": [
    {
     "name": "stdout",
     "output_type": "stream",
     "text": [
      "2018-07-31 16:03:27.18: SYS_STATUS {onboard_control_sensors_present : 2161691\n"
     ]
    },
    {
     "data": {
      "text/plain": [
       "'2018-07-31 16:03:27'"
      ]
     },
     "execution_count": 12,
     "metadata": {},
     "output_type": "execute_result"
    }
   ],
   "source": [
    "# виокремлення з текстовoго рядка дати (форма команди залежить вiд запису в текстовому рядку)\n",
    "sd = df['date_status'][0].split(': S')[0][:-3]\n",
    "print(df['date_status'][0])\n",
    "sd"
   ]
  },
  {
   "cell_type": "code",
   "execution_count": 14,
   "metadata": {},
   "outputs": [
    {
     "data": {
      "text/plain": [
       "(2919,\n",
       " [datetime.datetime(2018, 7, 31, 16, 3, 27, tzinfo=<UTC>),\n",
       "  datetime.datetime(2018, 7, 31, 16, 3, 28, tzinfo=<UTC>),\n",
       "  datetime.datetime(2018, 7, 31, 16, 3, 29, tzinfo=<UTC>),\n",
       "  datetime.datetime(2018, 7, 31, 16, 3, 30, tzinfo=<UTC>),\n",
       "  datetime.datetime(2018, 7, 31, 16, 3, 31, tzinfo=<UTC>)])"
      ]
     },
     "execution_count": 14,
     "metadata": {},
     "output_type": "execute_result"
    }
   ],
   "source": [
    "# timestamps - список всiх дат\n",
    "timestamps = []\n",
    "for i, row in df.iterrows():\n",
    "    try:\n",
    "        str_date = row['date_status'].split(': S')[0][:-3]\n",
    "        #t = datetime.strptime(str_date, '%Y-%m-%d %H:%M:%S')\n",
    "        t = pd.Timestamp(str_date, tz=pytz.timezone('UTC')).to_pydatetime()\n",
    "    except:\n",
    "        print(str_date)\n",
    "    timestamps.append(t)\n",
    "\n",
    "len(timestamps), timestamps[:5]"
   ]
  },
  {
   "cell_type": "code",
   "execution_count": 15,
   "metadata": {},
   "outputs": [
    {
     "name": "stdout",
     "output_type": "stream",
     "text": [
      " battery_remaining : 100\n"
     ]
    },
    {
     "data": {
      "text/plain": [
       "(' 100', 100)"
      ]
     },
     "execution_count": 15,
     "metadata": {},
     "output_type": "execute_result"
    }
   ],
   "source": [
    "# виокремлення з текстовoго рядка заряду батареi та конвертацiя в int\n",
    "x = df['battery_remaining'][0].split(':')[1]\n",
    "print(df['battery_remaining'][0])\n",
    "x, int(x)"
   ]
  },
  {
   "cell_type": "code",
   "execution_count": 16,
   "metadata": {},
   "outputs": [
    {
     "data": {
      "text/plain": [
       "(2919, [100, 100, 100])"
      ]
     },
     "execution_count": 16,
     "metadata": {},
     "output_type": "execute_result"
    }
   ],
   "source": [
    "# battery - список зараду батареi для кожноi дати\n",
    "battery = []\n",
    "for i, row in df.iterrows():\n",
    "    try:\n",
    "        str_b = row['battery_remaining'].split(':')[1]\n",
    "        b = int(str_b)\n",
    "    except:\n",
    "        print(str_b)\n",
    "    battery.append(b)\n",
    "\n",
    "len(battery), battery[:3]"
   ]
  },
  {
   "cell_type": "markdown",
   "metadata": {},
   "source": [
    "## Вiзуалiзацiя витрат енергii протягом роботи дрону"
   ]
  },
  {
   "cell_type": "code",
   "execution_count": 23,
   "metadata": {},
   "outputs": [],
   "source": [
    "# построение диаграммы с помощью scatter\n",
    "def show_distribution_scatter(row, col, pos, values, frequences):\n",
    "    x, y = values, frequences\n",
    "  \n",
    "    ax = plt.subplot(row, col, pos)\n",
    "    \n",
    "    plt.scatter(x, y)\n",
    "    \n",
    "    title=\"Розподiл зараду батареi по датам вiд {} до {}\".format(\n",
    "                    timestamps[0].strftime('%Y-%m-%d %H:%M:%S'),\n",
    "                    timestamps[-1].strftime('%Y-%m-%d %H:%M:%S')\n",
    "                )\n",
    "    plt.title(title, fontdict={'size':14})\n",
    "    plt.xlabel('times', fontdict={'size':12})    \n",
    "    plt.ylabel('battery remaining', fontdict={'size':12})\n",
    "    \n",
    "    locator = SecondLocator(bysecond=[0, 20, 40])\n",
    "    #seclocator.MAXTICKS  = 40000\n",
    "    fmt = DateFormatter('%Y-%m-%d %H:%M:%S') \n",
    "    ax.xaxis.set_major_locator(locator)\n",
    "    ax.xaxis.set_major_formatter(fmt)\n",
    "    plt.setp(ax.xaxis.get_majorticklabels(), rotation=90)\n",
    "\n",
    "    ax.set_yticks(np.arange(70, 101, step=1))\n",
    "\n",
    "    plt.grid()"
   ]
  },
  {
   "cell_type": "code",
   "execution_count": 24,
   "metadata": {
    "scrolled": false
   },
   "outputs": [
    {
     "data": {
      "image/png": "[encoded data removed]",
      "text/plain": [
       "<Figure size 1008x1008 with 1 Axes>"
      ]
     },
     "metadata": {
      "needs_background": "light"
     },
     "output_type": "display_data"
    }
   ],
   "source": [
    "plt.figure(figsize=(14, 14))\n",
    "\n",
    "show_distribution_scatter(1, 1, 1, timestamps, battery)\n",
    "\n",
    "plt.tight_layout()\n",
    "plt.show()"
   ]
  },
  {
   "cell_type": "markdown",
   "metadata": {},
   "source": [
    "## Висновки\n",
    " 1. Час спостережень в файлi .tlog вiд 2018-07-31 16:03:27 до 2018-07-31 16:28:20, тобто тривалiсть спостережень 25 хвилин.\n",
    " 2. За 25 хв роботи дрон витратив 25% своеi енергii. \n",
    " 3. З дiаграми видно, що витрати були нерiвномiрнi по часу.\n",
    " 4. На витрати вплинули режими використання дрону: розгон та гальмування пiд час пiдйому та поворотiв, знесення вiтром.\n",
    " \n",
    " **Отже, пiд час створення моделi руху дрону потрiбно врахувати цi зовнiшнi чинники.**"
   ]
  },
  {
   "cell_type": "code",
   "execution_count": null,
   "metadata": {},
   "outputs": [],
   "source": []
  }
 ],
 "metadata": {
  "kernelspec": {
   "display_name": "Python 3",
   "language": "python",
   "name": "python3"
  },
  "language_info": {
   "codemirror_mode": {
    "name": "ipython",
    "version": 3
   },
   "file_extension": ".py",
   "mimetype": "text/x-python",
   "name": "python",
   "nbconvert_exporter": "python",
   "pygments_lexer": "ipython3",
   "version": "3.6.9"
  },
  "toc": {
   "base_numbering": 1,
   "nav_menu": {},
   "number_sections": true,
   "sideBar": true,
   "skip_h1_title": true,
   "title_cell": "Table of Contents",
   "title_sidebar": "Contents",
   "toc_cell": false,
   "toc_position": {},
   "toc_section_display": true,
   "toc_window_display": true
  },
  "varInspector": {
   "cols": {
    "lenName": 16,
    "lenType": 16,
    "lenVar": 40
   },
   "kernels_config": {
    "python": {
     "delete_cmd_postfix": "",
     "delete_cmd_prefix": "del ",
     "library": "var_list.py",
     "varRefreshCmd": "print(var_dic_list())"
    },
    "r": {
     "delete_cmd_postfix": ") ",
     "delete_cmd_prefix": "rm(",
     "library": "var_list.r",
     "varRefreshCmd": "cat(var_dic_list()) "
    }
   },
   "types_to_exclude": [
    "module",
    "function",
    "builtin_function_or_method",
    "instance",
    "_Feature"
   ],
   "window_display": false
  }
 },
 "nbformat": 4,
 "nbformat_minor": 2
}
